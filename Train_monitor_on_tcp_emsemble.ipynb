{
  "cells": [
    {
      "cell_type": "code",
      "execution_count": null,
      "metadata": {
        "id": "2hWjdXupH2t0",
        "outputId": "dc78ba0e-b70c-4c97-e1de-fbc96c6d451e"
      },
      "outputs": [],
      "source": [
        "import warnings\n",
        "warnings.filterwarnings('ignore')\n",
        "import tensorflow as tf\n",
        "print(tf.__version__)\n",
        "from tensorflow.keras import datasets, layers, models\n",
        "from tensorflow.keras.preprocessing.image import ImageDataGenerator\n",
        "from tensorflow.keras.models import Sequential\n",
        "from tensorflow.keras.layers import Input,Dense,Dropout,Activation,Flatten,GlobalAveragePooling2D\n",
        "from tensorflow.keras.layers import Conv2D,MaxPooling2D,BatchNormalization,Lambda,Concatenate\n",
        "from tensorflow.keras import optimizers, regularizers, applications\n",
        "from tensorflow.keras.utils import to_categorical\n",
        "from tensorflow.keras.utils import plot_model\n",
        "\n",
        "import numpy as np\n",
        "import scipy.io as sio\n",
        "import scipy.stats as sst\n",
        "import scipy\n",
        "\n",
        "import random\n",
        "from sklearn.linear_model import LogisticRegression\n",
        "from sklearn.ensemble import RandomForestClassifier\n",
        "from sklearn.metrics import confusion_matrix\n",
        "from sklearn.model_selection import train_test_split\n",
        "from sklearn.metrics import precision_recall_curve,roc_auc_score,average_precision_score\n",
        "\n",
        "import matplotlib.pyplot as plt\n",
        "\n",
        "import keras"
      ]
    },
    {
      "cell_type": "code",
      "execution_count": null,
      "metadata": {
        "id": "d23iM6DRH2t2"
      },
      "outputs": [],
      "source": [
        "## load encode feature, prob and tcp\n",
        "monitor_data = sio.loadmat('./D1_train_features.mat')\n",
        "probability = monitor_data['probability']\n",
        "prediction = monitor_data['prediction'].reshape([-1])\n",
        "label = monitor_data['label'].reshape([-1])\n",
        "TF = prediction!=label"
      ]
    },
    {
      "cell_type": "code",
      "execution_count": null,
      "metadata": {
        "id": "EnSdxI17H2t2",
        "outputId": "c6181414-8e29-4f8e-ff1d-3d81dc18d0f7"
      },
      "outputs": [],
      "source": [
        "monitor_X = probability\n",
        "monitor_Y = TF\n",
        "monitor_tcp = np.zeros(TF.shape)\n",
        "for i in range(TF.shape[0]):\n",
        "    monitor_tcp[i]=probability[i,int(label[i])]\n",
        "print(monitor_X.shape, monitor_Y.shape,monitor_tcp.shape)"
      ]
    },
    {
      "cell_type": "code",
      "execution_count": null,
      "metadata": {
        "id": "-icmHhpaH2t2",
        "outputId": "264acb1e-f841-4440-a27a-35a07fec9061"
      },
      "outputs": [],
      "source": [
        "## split data into train and test\n",
        "monitorX_train,monitorX_test,monitorY_train,monitorY_test = train_test_split(monitor_X,\n",
        "                                                                             monitor_tcp,\n",
        "                                                                             test_size=0.1,\n",
        "                                                                             random_state=42)\n",
        "print(monitorX_train.shape, monitorX_test.shape)"
      ]
    },
    {
      "cell_type": "code",
      "execution_count": null,
      "metadata": {
        "id": "PtRG6VuBH2t3",
        "outputId": "1a707229-345e-4655-96de-baea8792f231"
      },
      "outputs": [],
      "source": [
        "for i in range(20):\n",
        "    ## define monitor model\n",
        "    X1_input = Input(shape=(43,),name='input')\n",
        "    h = Dense(100,activation='relu',kernel_initializer='random_uniform',name='dense_1')(X1_input)\n",
        "    h = Dense(50,activation='relu',kernel_initializer='random_uniform',name='dense_2')(h)\n",
        "    h = Dropout(0.2,name='dropout_1')(h,training=True)\n",
        "    output = Dense(1, activation='sigmoid',kernel_initializer='random_uniform',name='output')(h)\n",
        "    monitor_model = models.Model(X1_input,output,name='monitor_without_image')\n",
        "\n",
        "    ## compile monitor model using mse loss\n",
        "    monitor_model.compile(optimizer='Adam',loss='mean_squared_error',metrics=['accuracy'])\n",
        "\n",
        "    ## train and store history\n",
        "    history = monitor_model.fit(monitorX_train,monitorY_train,epochs=50,validation_split=0.2,shuffle=True,verbose=0)\n",
        "\n",
        "    ## store the model_model\n",
        "    store_name = './emsemble_models/pretrained_D1_ensemble_v'+str(i)+'_new.h5'\n",
        "    print(store_name)\n",
        "    models.save_model(monitor_model,store_name)"
      ]
    }
  ],
  "metadata": {
    "colab": {
      "provenance": []
    },
    "kernelspec": {
      "display_name": "Python 3",
      "language": "python",
      "name": "python3"
    },
    "language_info": {
      "codemirror_mode": {
        "name": "ipython",
        "version": 3
      },
      "file_extension": ".py",
      "mimetype": "text/x-python",
      "name": "python",
      "nbconvert_exporter": "python",
      "pygments_lexer": "ipython3",
      "version": "3.7.7"
    },
    "varInspector": {
      "cols": {
        "lenName": 16,
        "lenType": 16,
        "lenVar": 40
      },
      "kernels_config": {
        "python": {
          "delete_cmd_postfix": "",
          "delete_cmd_prefix": "del ",
          "library": "var_list.py",
          "varRefreshCmd": "print(var_dic_list())"
        },
        "r": {
          "delete_cmd_postfix": ") ",
          "delete_cmd_prefix": "rm(",
          "library": "var_list.r",
          "varRefreshCmd": "cat(var_dic_list()) "
        }
      },
      "types_to_exclude": [
        "module",
        "function",
        "builtin_function_or_method",
        "instance",
        "_Feature"
      ],
      "window_display": false
    }
  },
  "nbformat": 4,
  "nbformat_minor": 0
}
