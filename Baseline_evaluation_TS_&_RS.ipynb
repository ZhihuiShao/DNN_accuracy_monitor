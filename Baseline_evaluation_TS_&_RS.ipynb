{
  "cells": [
    {
      "cell_type": "code",
      "execution_count": null,
      "metadata": {
        "id": "14KXmZFjH5K0",
        "outputId": "b1a46689-0556-46f7-cff7-7de65fab1440"
      },
      "outputs": [],
      "source": [
        "import warnings\n",
        "warnings.filterwarnings('ignore')\n",
        "import tensorflow as tf\n",
        "print(tf.__version__)\n",
        "from tensorflow.keras import datasets, layers, models\n",
        "from tensorflow.keras.preprocessing.image import ImageDataGenerator\n",
        "from tensorflow.keras.models import Sequential\n",
        "from tensorflow.keras.layers import Input,Dense,Dropout,Activation,Flatten,GlobalAveragePooling2D\n",
        "from tensorflow.keras.layers import Conv2D,MaxPooling2D,BatchNormalization,Lambda,Concatenate\n",
        "from tensorflow.keras import optimizers, regularizers, applications\n",
        "from tensorflow.keras.utils import to_categorical\n",
        "from tensorflow.keras.utils import plot_model\n",
        "\n",
        "import numpy as np\n",
        "import scipy.io as sio\n",
        "import scipy.stats as sst\n",
        "import scipy.special as ssp\n",
        "import scipy\n",
        "\n",
        "import random\n",
        "from sklearn.linear_model import LogisticRegression\n",
        "from sklearn.ensemble import RandomForestClassifier\n",
        "from sklearn.metrics import confusion_matrix\n",
        "from sklearn.model_selection import train_test_split\n",
        "from sklearn.metrics import precision_recall_curve, roc_auc_score, roc_curve,precision_recall_curve,average_precision_score\n",
        "\n",
        "import matplotlib.pyplot as plt\n",
        "\n",
        "import keras"
      ]
    },
    {
      "cell_type": "code",
      "execution_count": null,
      "metadata": {
        "id": "WLLjYnBaH5K1"
      },
      "outputs": [],
      "source": [
        "plt.rcParams[\"font.family\"] = \"Linux Biolinum O\"\n",
        "plt.rcParams.update({'font.size': 18, 'font.weight': 'bold'})\n",
        "plt.rcParams[\"legend.handlelength\"] = 1.0"
      ]
    },
    {
      "cell_type": "code",
      "execution_count": null,
      "metadata": {
        "id": "J0to_m5zH5K1"
      },
      "outputs": [],
      "source": [
        "## load data\n",
        "data = sio.loadmat('./D1_test_features.mat')"
      ]
    },
    {
      "cell_type": "code",
      "execution_count": null,
      "metadata": {
        "id": "s8kW-5VhH5K1"
      },
      "outputs": [],
      "source": [
        "logits = data['logits']\n",
        "prediction = data['prediction'].reshape([-1])\n",
        "label = data['label'].reshape([-1])\n",
        "probability = data['probability']\n",
        "TF = prediction!=label"
      ]
    },
    {
      "cell_type": "code",
      "execution_count": null,
      "metadata": {
        "id": "RhFgG_AXH5K1",
        "outputId": "b0993f91-1518-4f69-c404-0e50129c99ab"
      },
      "outputs": [],
      "source": [
        "1-np.mean(TF)"
      ]
    },
    {
      "cell_type": "code",
      "execution_count": null,
      "metadata": {
        "id": "1EHuDGSeH5K1",
        "outputId": "e1ff34f1-b73d-47cd-8dc2-b50e422744a0"
      },
      "outputs": [],
      "source": [
        "## baseline on temperature scaling\n",
        "# sample 1% data to obtain T\n",
        "sample_N = logits.shape[0];\n",
        "np.random.seed(seed=42)\n",
        "sample_index = np.random.choice(sample_N,int(sample_N*0.01),replace=False)\n",
        "\n",
        "sample_logits = logits[sample_index];print(sample_logits.shape)\n",
        "sample_TF = TF[sample_index];print(sample_TF.shape)\n",
        "sample_label = label[sample_index];print(sample_label.shape)\n",
        "\n",
        "T_arr = np.arange(0.2,10,0.1)\n",
        "NLL_train = []\n",
        "aupr_train = []\n",
        "for T in T_arr:\n",
        "    #NLL\n",
        "    cur_prob = ssp.softmax(sample_logits/T, axis=-1)\n",
        "    aupr_train.append(average_precision_score(sample_TF,1-np.max(cur_prob,axis=-1)))\n",
        "    NLL_train.append(np.nanmean(sst.entropy(to_categorical(sample_label,43),cur_prob)))"
      ]
    },
    {
      "cell_type": "code",
      "execution_count": null,
      "metadata": {
        "id": "Wrdl6HGHH5K2",
        "outputId": "d60b517e-3e1f-4c70-b534-a0c2148b1d3d"
      },
      "outputs": [],
      "source": [
        "plt.figure(figsize=(5,3))\n",
        "plt.plot(T_arr,NLL_train)\n",
        "plt.xlim([0,10]);\n",
        "xindex=NLL_train.index(min(NLL_train))\n",
        "plt.plot(T_arr[xindex],NLL_train[xindex],'r*')\n",
        "print(T_arr[xindex])\n",
        "plt.grid();plt.xlabel('Tempearture (T)');plt.ylabel('NLL');"
      ]
    },
    {
      "cell_type": "code",
      "execution_count": null,
      "metadata": {
        "id": "2ss-3LPjH5K2",
        "outputId": "c1d381cd-d1ef-4ea4-bc62-502a69c6a839"
      },
      "outputs": [],
      "source": [
        "## original data baseline max(probability)\n",
        "calibrated_probability = ssp.softmax(logits/2.9, axis=-1)\n",
        "print(roc_auc_score(TF,1-np.max(calibrated_probability,axis=-1)),\n",
        "      average_precision_score(TF,1-np.max(calibrated_probability,axis=-1)))"
      ]
    },
    {
      "cell_type": "code",
      "execution_count": null,
      "metadata": {
        "id": "vbO5nv4aH5K2",
        "outputId": "c7489405-de42-4954-963c-0e05989d05f8"
      },
      "outputs": [],
      "source": [
        "np.mean(np.max(calibrated_probability,axis=-1))"
      ]
    },
    {
      "cell_type": "code",
      "execution_count": null,
      "metadata": {
        "id": "F1AbuctqH5K2",
        "outputId": "f4f1d202-5044-4868-ccb0-393fd586a19f"
      },
      "outputs": [],
      "source": [
        "# baseline\n",
        "np.mean(np.max(probability,axis=-1))"
      ]
    },
    {
      "cell_type": "code",
      "execution_count": null,
      "metadata": {
        "id": "HMiSNKmkH5K2",
        "outputId": "3c93cab5-d039-42fa-99a4-1eb729ccedd5"
      },
      "outputs": [],
      "source": [
        "# data used for transfer\n",
        "## load encode feature, prob and tcp\n",
        "monitor_test_X = probability\n",
        "monitor_test_Y = TF\n",
        "max_P = np.max(monitor_test_X,axis=-1)\n",
        "max_P = (max_P-min(max_P))/(max(max_P)-min(max_P))\n",
        "print(monitor_test_X.shape, monitor_test_Y.shape,max_P.shape)"
      ]
    },
    {
      "cell_type": "code",
      "execution_count": null,
      "metadata": {
        "id": "2vefsZBbH5K2"
      },
      "outputs": [],
      "source": [
        "## simulation RS 10k, 100,1000\n",
        "accuracy_list = []\n",
        "for i in range(100):\n",
        "    cur_accuracy = 1-np.mean(monitor_test_Y[np.random.choice(monitor_test_Y.shape[0],101*10)])\n",
        "    accuracy_list.append(cur_accuracy)"
      ]
    },
    {
      "cell_type": "code",
      "execution_count": null,
      "metadata": {
        "id": "Tfkmj2EEH5K2",
        "outputId": "d634f687-544f-4c7e-8c1e-d887e6479954"
      },
      "outputs": [],
      "source": [
        "np.min(accuracy_list),np.max(accuracy_list)"
      ]
    },
    {
      "cell_type": "markdown",
      "metadata": {
        "id": "UfY8rFv2H5K3"
      },
      "source": [
        "# according to sampled 1%, decide the MP-based and Entropy-based"
      ]
    },
    {
      "cell_type": "code",
      "execution_count": null,
      "metadata": {
        "id": "ARifj0qhH5K3",
        "outputId": "61097fd6-bd97-4ffc-cbd6-9ec1a0df8034"
      },
      "outputs": [],
      "source": [
        "## baseline on temperature scaling\n",
        "# sample 1% data to obtain T\n",
        "sample_N = logits.shape[0];\n",
        "np.random.seed(seed=42)\n",
        "sample_index = np.random.choice(sample_N,int(sample_N*0.01),replace=False)\n",
        "\n",
        "sample_logits = logits[sample_index];print(sample_logits.shape)\n",
        "sample_TF = TF[sample_index];print(sample_TF.shape)\n",
        "sample_label = label[sample_index];print(sample_label.shape)\n",
        "sample_probability = probability[sample_index];print(sample_probability.shape)"
      ]
    },
    {
      "cell_type": "code",
      "execution_count": null,
      "metadata": {
        "id": "VM7wd1IHH5K3"
      },
      "outputs": [],
      "source": [
        "max_P = np.max(sample_probability,axis=-1)"
      ]
    },
    {
      "cell_type": "code",
      "execution_count": null,
      "metadata": {
        "id": "mEK8N3RCH5K3"
      },
      "outputs": [],
      "source": [
        "my_thre = np.arange(0.8,1,0.005)\n",
        "res = []\n",
        "for thre in my_thre:\n",
        "    res.append(np.mean(max_P>thre))"
      ]
    },
    {
      "cell_type": "code",
      "execution_count": null,
      "metadata": {
        "id": "z-EAHzMvH5K4",
        "outputId": "ab9db236-5e7a-47ca-f7f3-e53ca5d4185a"
      },
      "outputs": [],
      "source": [
        "1-np.mean(sample_TF)"
      ]
    },
    {
      "cell_type": "code",
      "execution_count": null,
      "metadata": {
        "id": "SCv6vILHH5K4",
        "outputId": "7ee76672-f8f9-4316-90c2-e25c336e38aa"
      },
      "outputs": [],
      "source": [
        "plt.figure(figsize=(5,3))\n",
        "plt.plot(my_thre,res,'r',markevery=2);\n",
        "plt.plot(0.95,0.83,'b*')\n",
        "plt.xlim([0.8,1]);plt.xlabel('threshold');plt.ylabel('Estimated accuracy');"
      ]
    },
    {
      "cell_type": "code",
      "execution_count": null,
      "metadata": {
        "id": "FjgY05YoH5K4",
        "outputId": "0c870462-1245-4dad-a96a-e1361b037d5f"
      },
      "outputs": [],
      "source": [
        "# MP is 0.95\n",
        "MP_th = 0.95\n",
        "temp_score = np.max(probability,axis=-1)>MP_th\n",
        "np.mean(temp_score)"
      ]
    },
    {
      "cell_type": "code",
      "execution_count": null,
      "metadata": {
        "id": "pIb3JZV1H5K4"
      },
      "outputs": [],
      "source": [
        "## entropy based follows"
      ]
    },
    {
      "cell_type": "code",
      "execution_count": null,
      "metadata": {
        "id": "fbMZiT8kH5K4",
        "outputId": "cb8c1cdc-5a1b-4c1f-8757-e4d54e8087fd"
      },
      "outputs": [],
      "source": [
        "## calcuate entropy\n",
        "test_entropy = np.array([sst.entropy(i) for i in probability]);print(test_entropy.shape)\n",
        "MAX_ENTROPY = sst.entropy(np.ones(43,)/43);print(MAX_ENTROPY)\n",
        "test_entropy = test_entropy/MAX_ENTROPY#np.max(test_entropy)"
      ]
    },
    {
      "cell_type": "code",
      "execution_count": null,
      "metadata": {
        "id": "F2JMNkDIH5K4",
        "outputId": "ecaaa69f-3edf-412f-f0c0-4c573c1c9c55"
      },
      "outputs": [],
      "source": [
        "sample_entropy = test_entropy[sample_index];print(sample_entropy.shape)"
      ]
    },
    {
      "cell_type": "code",
      "execution_count": null,
      "metadata": {
        "id": "GrAtztx4H5K4"
      },
      "outputs": [],
      "source": [
        "my_thre = np.arange(0,0.1,0.001)\n",
        "res = []\n",
        "for thre in my_thre:\n",
        "    res.append(np.mean(sample_entropy<thre))"
      ]
    },
    {
      "cell_type": "code",
      "execution_count": null,
      "metadata": {
        "id": "gU2AG5HXH5K4",
        "outputId": "03742b28-8a10-448f-e0a1-f5cebf91e7a2"
      },
      "outputs": [],
      "source": [
        "1-np.mean(sample_TF)"
      ]
    },
    {
      "cell_type": "code",
      "execution_count": null,
      "metadata": {
        "id": "kHRHhHsWH5K4",
        "outputId": "69249b4d-5895-4569-d17e-743ffa1be35d"
      },
      "outputs": [],
      "source": [
        "plt.figure(figsize=(5,3))\n",
        "plt.plot(my_thre,res,'r',markevery=2);\n",
        "plt.plot(0.05,0.82,'b*')# plt.xlim([0.8,1]);\n",
        "plt.xlabel('threshold');plt.ylabel('Estimated accuracy');"
      ]
    },
    {
      "cell_type": "code",
      "execution_count": null,
      "metadata": {
        "id": "HsmO-buBH5K4",
        "outputId": "28b1c868-8134-4dd7-9908-e21a94ae605a"
      },
      "outputs": [],
      "source": [
        "# M tnetropy is 0.05\n",
        "MP_th = 0.05\n",
        "temp_score = test_entropy<MP_th\n",
        "np.mean(temp_score)"
      ]
    },
    {
      "cell_type": "code",
      "execution_count": null,
      "metadata": {
        "id": "PGrejOq7H5K4",
        "outputId": "3214afe3-ecfa-4eef-e0da-8be77ecc9a47"
      },
      "outputs": [],
      "source": [
        "## get auroc and aupr\n",
        "temp_score = test_entropy<MP_th\n",
        "roc_auc_score(TF,1-temp_score), average_precision_score(TF,1-temp_score)"
      ]
    },
    {
      "cell_type": "code",
      "execution_count": null,
      "metadata": {
        "id": "dQChKBRyH5K4"
      },
      "outputs": [],
      "source": []
    },
    {
      "cell_type": "code",
      "execution_count": null,
      "metadata": {
        "id": "hRLWcBHzH5K4"
      },
      "outputs": [],
      "source": [
        "#---------------------"
      ]
    },
    {
      "cell_type": "code",
      "execution_count": null,
      "metadata": {
        "id": "o2uHomBOH5K4",
        "outputId": "a664a259-98a1-46eb-ef55-b7ea4c83000a"
      },
      "outputs": [],
      "source": [
        "# MP is 0.95\n",
        "MP_th = 0.95\n",
        "temp_score = np.max(probability,axis=-1)>MP_th\n",
        "np.mean(temp_score)"
      ]
    },
    {
      "cell_type": "code",
      "execution_count": null,
      "metadata": {
        "id": "yOHjWEvEH5K5",
        "outputId": "88452854-b2ee-49cd-93b8-ccba819d9301"
      },
      "outputs": [],
      "source": [
        "## get auroc and aupr\n",
        "temp_score = np.max(probability,axis=-1)>MP_th\n",
        "roc_auc_score(TF,1-temp_score), average_precision_score(TF,1-temp_score)"
      ]
    },
    {
      "cell_type": "code",
      "execution_count": null,
      "metadata": {
        "id": "mVH5lEMyH5K5"
      },
      "outputs": [],
      "source": [
        "# for max(P)"
      ]
    },
    {
      "cell_type": "code",
      "execution_count": null,
      "metadata": {
        "id": "RMBaGQn5H5K5",
        "outputId": "18683e16-b8eb-4485-c348-bbee64c112d5"
      },
      "outputs": [],
      "source": [
        "## get auroc and aupr\n",
        "temp_score = np.max(probability,axis=-1)\n",
        "roc_auc_score(TF,1-temp_score), average_precision_score(TF,1-temp_score)"
      ]
    },
    {
      "cell_type": "code",
      "execution_count": null,
      "metadata": {
        "id": "fTehx-NuH5K5",
        "outputId": "88163cb0-c1ea-41d7-babb-b9ad3af578ca"
      },
      "outputs": [],
      "source": [
        "## get auroc and aupr\n",
        "temp_score = 1-test_entropy\n",
        "roc_auc_score(TF,1-temp_score), average_precision_score(TF,1-temp_score)"
      ]
    }
  ],
  "metadata": {
    "colab": {
      "provenance": []
    },
    "kernelspec": {
      "display_name": "Python 3",
      "language": "python",
      "name": "python3"
    },
    "language_info": {
      "codemirror_mode": {
        "name": "ipython",
        "version": 3
      },
      "file_extension": ".py",
      "mimetype": "text/x-python",
      "name": "python",
      "nbconvert_exporter": "python",
      "pygments_lexer": "ipython3",
      "version": "3.7.7"
    },
    "varInspector": {
      "cols": {
        "lenName": 16,
        "lenType": 16,
        "lenVar": 40
      },
      "kernels_config": {
        "python": {
          "delete_cmd_postfix": "",
          "delete_cmd_prefix": "del ",
          "library": "var_list.py",
          "varRefreshCmd": "print(var_dic_list())"
        },
        "r": {
          "delete_cmd_postfix": ") ",
          "delete_cmd_prefix": "rm(",
          "library": "var_list.r",
          "varRefreshCmd": "cat(var_dic_list()) "
        }
      },
      "types_to_exclude": [
        "module",
        "function",
        "builtin_function_or_method",
        "instance",
        "_Feature"
      ],
      "window_display": false
    }
  },
  "nbformat": 4,
  "nbformat_minor": 0
}
