{
  "cells": [
    {
      "cell_type": "code",
      "execution_count": null,
      "metadata": {
        "id": "kfWrxOSLHc45",
        "outputId": "6d7412d8-5ef1-4086-b125-c6b1058c0136"
      },
      "outputs": [],
      "source": [
        "import warnings\n",
        "warnings.filterwarnings('ignore')\n",
        "import tensorflow as tf\n",
        "print(tf.__version__)\n",
        "from tensorflow.keras import datasets, layers, models\n",
        "from tensorflow.keras.preprocessing.image import ImageDataGenerator\n",
        "from tensorflow.keras.models import Sequential\n",
        "from tensorflow.keras.layers import Input,Dense,Dropout,Activation,Flatten,GlobalAveragePooling2D\n",
        "from tensorflow.keras.layers import Conv2D,MaxPooling2D,BatchNormalization,Lambda,Concatenate\n",
        "from tensorflow.keras import optimizers, regularizers, applications\n",
        "from tensorflow.keras.utils import to_categorical\n",
        "from tensorflow.keras.utils import plot_model\n",
        "\n",
        "import numpy as np\n",
        "import scipy.io as sio\n",
        "import scipy.stats as sst\n",
        "import scipy\n",
        "\n",
        "import random\n",
        "from sklearn.linear_model import LogisticRegression\n",
        "from sklearn.ensemble import RandomForestClassifier\n",
        "from sklearn.metrics import confusion_matrix\n",
        "from sklearn.model_selection import train_test_split\n",
        "from sklearn.metrics import precision_recall_curve,roc_auc_score,average_precision_score\n",
        "\n",
        "import matplotlib.pyplot as plt\n",
        "\n",
        "import keras"
      ]
    },
    {
      "cell_type": "code",
      "execution_count": null,
      "metadata": {
        "id": "_QWiPAxKHc47"
      },
      "outputs": [],
      "source": [
        "## load encode feature, prob and tcp\n",
        "monitor_data = sio.loadmat('./D1_train_features.mat')\n",
        "probability = monitor_data['probability']\n",
        "prediction = monitor_data['prediction'].reshape([-1])\n",
        "label = monitor_data['label'].reshape([-1])\n",
        "TF = prediction!=label"
      ]
    },
    {
      "cell_type": "code",
      "execution_count": null,
      "metadata": {
        "id": "jU6foE47Hc47",
        "outputId": "d9a25828-9edc-4697-d5d0-ed752afa64ea"
      },
      "outputs": [],
      "source": [
        "monitor_X = probability\n",
        "monitor_Y = TF\n",
        "monitor_tcp = np.zeros(TF.shape)\n",
        "for i in range(TF.shape[0]):\n",
        "    monitor_tcp[i]=probability[i,int(label[i])]\n",
        "print(monitor_X.shape, monitor_Y.shape,monitor_tcp.shape)"
      ]
    },
    {
      "cell_type": "code",
      "execution_count": null,
      "metadata": {
        "id": "XswIXGi3Hc47",
        "outputId": "a92490b3-631f-4399-bfc5-8a65d03f6e05"
      },
      "outputs": [],
      "source": [
        "## split data into train and test\n",
        "monitorX_train,monitorX_test,monitorY_train,monitorY_test = train_test_split(monitor_X,\n",
        "                                                                             monitor_tcp,\n",
        "                                                                             test_size=0.1,\n",
        "                                                                             random_state=42)\n",
        "print(monitorX_train.shape, monitorX_test.shape)"
      ]
    },
    {
      "cell_type": "code",
      "execution_count": null,
      "metadata": {
        "id": "2ZiOxOupHc48",
        "outputId": "6e87adc4-ead2-4b48-fa9b-819ecd664d93"
      },
      "outputs": [],
      "source": [
        "X1_input = Input(shape=(43,),name='input')\n",
        "h = Dense(100,activation='relu',kernel_initializer='random_uniform',name='dense_1')(X1_input)\n",
        "h = Dense(100,activation='relu',kernel_initializer='random_uniform',name='dense_2')(h)\n",
        "h = Dropout(0.2,name='dropout_1')(h,training=True)\n",
        "output = Dense(1, activation='sigmoid',kernel_initializer='random_uniform',name='output')(h)\n",
        "monitor_model = models.Model(X1_input,output,name='monitor_without_image')"
      ]
    },
    {
      "cell_type": "code",
      "execution_count": null,
      "metadata": {
        "id": "ALJR50-iHc48",
        "outputId": "f71f3359-9de6-4aa1-905a-73831770ecd8"
      },
      "outputs": [],
      "source": [
        "monitor_model.summary()"
      ]
    },
    {
      "cell_type": "code",
      "execution_count": null,
      "metadata": {
        "id": "ojiJr_qbHc48",
        "outputId": "335b973c-2a3e-4451-fcdc-5ba5ec20f286",
        "scrolled": true
      },
      "outputs": [],
      "source": [
        "## compile monitor model using mse loss\n",
        "monitor_model.compile(optimizer='Adam',loss='mean_squared_error',metrics=['accuracy'])\n",
        "# monitor_model.compile(optimizer='Adam',loss='binary_crossentropy',metrics=['accuracy'])\n",
        "\n",
        "## train and store history\n",
        "history = monitor_model.fit(monitorX_train,monitorY_train,epochs=50,validation_split=0.2,shuffle=True,verbose=1)"
      ]
    },
    {
      "cell_type": "code",
      "execution_count": null,
      "metadata": {
        "id": "AetNGu61Hc48"
      },
      "outputs": [],
      "source": [
        "test_data = sio.loadmat('./D1_test_features.mat')\n",
        "test_data['label'] = test_data['label'].reshape([-1])\n",
        "test_data['prediction'] = test_data['prediction'].reshape([-1])"
      ]
    },
    {
      "cell_type": "code",
      "execution_count": null,
      "metadata": {
        "id": "_4eU-sd8Hc49",
        "outputId": "2c253c95-57fb-465f-f947-3735d158648c"
      },
      "outputs": [],
      "source": [
        "roc_auc_score(test_TF,1-monitor_pred), average_precision_score(test_TF,1-monitor_pred)"
      ]
    },
    {
      "cell_type": "code",
      "execution_count": null,
      "metadata": {
        "id": "6GrHAtk0Hc49"
      },
      "outputs": [],
      "source": [
        "models.save_model(monitor_model,'./pre_trained_model_D1_v2.h5')"
      ]
    }
  ],
  "metadata": {
    "colab": {
      "provenance": []
    },
    "kernelspec": {
      "display_name": "Python 3",
      "language": "python",
      "name": "python3"
    },
    "language_info": {
      "codemirror_mode": {
        "name": "ipython",
        "version": 3
      },
      "file_extension": ".py",
      "mimetype": "text/x-python",
      "name": "python",
      "nbconvert_exporter": "python",
      "pygments_lexer": "ipython3",
      "version": "3.7.7"
    },
    "varInspector": {
      "cols": {
        "lenName": 16,
        "lenType": 16,
        "lenVar": 40
      },
      "kernels_config": {
        "python": {
          "delete_cmd_postfix": "",
          "delete_cmd_prefix": "del ",
          "library": "var_list.py",
          "varRefreshCmd": "print(var_dic_list())"
        },
        "r": {
          "delete_cmd_postfix": ") ",
          "delete_cmd_prefix": "rm(",
          "library": "var_list.r",
          "varRefreshCmd": "cat(var_dic_list()) "
        }
      },
      "types_to_exclude": [
        "module",
        "function",
        "builtin_function_or_method",
        "instance",
        "_Feature"
      ],
      "window_display": false
    }
  },
  "nbformat": 4,
  "nbformat_minor": 0
}
