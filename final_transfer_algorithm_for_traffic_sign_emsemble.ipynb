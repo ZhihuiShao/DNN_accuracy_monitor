{
  "cells": [
    {
      "cell_type": "code",
      "execution_count": null,
      "metadata": {
        "id": "2tFY_MGTHyZZ",
        "outputId": "0db6bcc7-9717-4a0c-8491-342e66ae535d"
      },
      "outputs": [],
      "source": [
        "import warnings\n",
        "warnings.filterwarnings('ignore')\n",
        "import tensorflow as tf\n",
        "print(tf.__version__)\n",
        "from tensorflow.keras import datasets, layers, models\n",
        "from tensorflow.keras.preprocessing.image import ImageDataGenerator\n",
        "from tensorflow.keras.models import Sequential\n",
        "from tensorflow.keras.layers import Input,Dense,Dropout,Activation,Flatten,GlobalAveragePooling2D\n",
        "from tensorflow.keras.layers import Conv2D,MaxPooling2D,BatchNormalization,Lambda,Concatenate\n",
        "from tensorflow.keras import optimizers, regularizers, applications\n",
        "from tensorflow.keras.utils import to_categorical\n",
        "from tensorflow.keras.utils import plot_model\n",
        "\n",
        "import numpy as np\n",
        "import scipy.io as sio\n",
        "import scipy.stats as sst\n",
        "import scipy\n",
        "\n",
        "import random\n",
        "from sklearn.linear_model import LogisticRegression\n",
        "from sklearn.ensemble import RandomForestClassifier\n",
        "from sklearn.metrics import confusion_matrix\n",
        "from sklearn.model_selection import train_test_split\n",
        "from sklearn.metrics import precision_recall_curve,roc_auc_score\n",
        "\n",
        "import matplotlib.pyplot as plt\n",
        "\n",
        "import keras"
      ]
    },
    {
      "cell_type": "code",
      "execution_count": null,
      "metadata": {
        "id": "rcgtHQmgHyZb"
      },
      "outputs": [],
      "source": [
        "def monitor_evaluation(X,Y,model,isPlot=True,):\n",
        "    predict = (model.predict(X)>0.5).reshape([-1])\n",
        "    cm = confusion_matrix((Y>0.5).reshape([-1]),predict);\n",
        "    if isPlot:\n",
        "        print(cm/1000);print(\"predict accuracy\",np.mean(predict>0.5));print(\"true accuracy\",np.mean(Y>0.5))\n",
        "    return np.mean(predict>0.5)"
      ]
    },
    {
      "cell_type": "code",
      "execution_count": null,
      "metadata": {
        "id": "v7ypNCdIHyZb"
      },
      "outputs": [],
      "source": [
        "# get auc_roc score\n",
        "def get_auc(X,Y,model):\n",
        "    predict = (model.predict(X)).reshape([-1])\n",
        "    return roc_auc_score(Y, predict)"
      ]
    },
    {
      "cell_type": "code",
      "execution_count": null,
      "metadata": {
        "id": "jZXMSOBRHyZb",
        "outputId": "1428a066-857e-4138-9d24-46b6d2b5f082"
      },
      "outputs": [],
      "source": [
        "# test it on train\n",
        "## load encode feature, prob and tcp\n",
        "monitor_data = sio.loadmat('./D1_test_features.mat')#cifar_test; clinic10_train; clinic10_test;\n",
        "monitor_test_X = monitor_data['probability']\n",
        "label = monitor_data['label'].reshape([-1])\n",
        "prediction = monitor_data['prediction'].reshape([-1])\n",
        "monitor_test_Y = label!=prediction\n",
        "\n",
        "# get monitor_test_tcp\n",
        "monitor_test_tcp = np.zeros((monitor_test_X.shape[0]))\n",
        "for i in range(monitor_test_X.shape[0]):\n",
        "    monitor_test_tcp[i]=monitor_test_X[i,int(label[i])]\n",
        "# monitor_test_tcp = monitor_data['true_class_prob'].reshape([-1])\n",
        "print(monitor_test_X.shape, monitor_test_Y.shape,monitor_test_tcp.shape)\n",
        "# monitor_evaluation(monitor_test_X,1-monitor_test_Y,monitor_model)"
      ]
    },
    {
      "cell_type": "code",
      "execution_count": null,
      "metadata": {
        "collapsed": true,
        "id": "sgvwzhkQHyZc",
        "outputId": "3bc62144-3a0d-487c-9891-2615a114a24f"
      },
      "outputs": [],
      "source": [
        "## evaluate the model perforamce before transfer\n",
        "accuracy_before_transfer = []\n",
        "for em_index in range(20):\n",
        "    load_model_name = './emsemble_models/pretrained_D1_ensemble_v'+str(em_index)+'_new.h5'\n",
        "#     load_model_name = 'monitor_without_image_dropout20_9k_ensemble_v'+str(em_index)+'_new.h5'\n",
        "    monitor_model = models.load_model(load_model_name)\n",
        "    cur_accuracy = monitor_evaluation(monitor_test_X,1-monitor_test_Y,isPlot=False,model=monitor_model)\n",
        "    accuracy_before_transfer.append(cur_accuracy)\n",
        "    print(em_index,end=',')"
      ]
    },
    {
      "cell_type": "code",
      "execution_count": null,
      "metadata": {
        "id": "D_QtMHfgHyZc",
        "outputId": "17c90721-99e4-46ce-c16b-33499eae2145"
      },
      "outputs": [],
      "source": [
        "# transfer data\n",
        "\n",
        "monitorX_train,monitorX_test,monitorY_train,monitorY_test = train_test_split(monitor_test_X,\n",
        "                                                                             monitor_test_tcp,\n",
        "                                                                             test_size=0.99,\n",
        "                                                                             random_state=42)\n",
        "monitorX_train.shape, monitorY_train.shape"
      ]
    },
    {
      "cell_type": "code",
      "execution_count": null,
      "metadata": {
        "id": "ko8TstTDHyZc",
        "outputId": "722d9f9a-ed71-47c2-e99c-951cda297dd7",
        "scrolled": true
      },
      "outputs": [],
      "source": [
        "## transfer\n",
        "## evaluate the model perforamce before transfer\n",
        "accuracy_afterp1_transfer = []\n",
        "for em_index in range(20):\n",
        "    load_model_name = './emsemble_models/pretrained_D1_ensemble_v'+str(em_index)+'_new.h5'\n",
        "    monitor_model = models.load_model(load_model_name)\n",
        "    \n",
        "#     ## get data\n",
        "#     predict_TCP = monitor_model.predict(monitor_test_X[:,-10:])\n",
        "#     TCP_entrop = predict_TCP*(1-predict_TCP)*4\n",
        "#     transfer_list = TCP_entrop.reshape([-1]).argsort()[::-1][:900]#[np.random.choice(1000,500)]\n",
        "#     monitorX_train = monitor_test_X[transfer_list]\n",
        "#     monitorY_train = monitor_test_tcp[transfer_list]\n",
        "    \n",
        "    # transfer step 1: control layers\n",
        "    for layer in monitor_model.layers:\n",
        "        layer.trainable=False\n",
        "#     monitor_model.layers[-1].trainable=True\n",
        "    monitor_model.layers[-2].trainable=True\n",
        "    # transfer step 2: compile\n",
        "    monitor_model.compile(optimizer='Adam',loss='mean_squared_error',metrics=['accuracy'])\n",
        "    # transfer step 3: transfer\n",
        "    history = monitor_model.fit(monitorX_train,monitorY_train,epochs=250,\n",
        "                                validation_split=0.1,shuffle=True,verbose=0)\n",
        "    # transfer step 4: evaluate accuracy\n",
        "    cur_accuracy = monitor_evaluation(monitor_test_X,1-monitor_test_Y,isPlot=False,model=monitor_model)\n",
        "    accuracy_afterp1_transfer.append(cur_accuracy)\n",
        "#     print(get_auc(monitor_test_X,1-monitor_test_Y,monitor_model))\n",
        "    print(em_index,end=',')"
      ]
    }
  ],
  "metadata": {
    "colab": {
      "provenance": []
    },
    "kernelspec": {
      "display_name": "Python 3",
      "language": "python",
      "name": "python3"
    },
    "varInspector": {
      "cols": {
        "lenName": 16,
        "lenType": 16,
        "lenVar": 40
      },
      "kernels_config": {
        "python": {
          "delete_cmd_postfix": "",
          "delete_cmd_prefix": "del ",
          "library": "var_list.py",
          "varRefreshCmd": "print(var_dic_list())"
        },
        "r": {
          "delete_cmd_postfix": ") ",
          "delete_cmd_prefix": "rm(",
          "library": "var_list.r",
          "varRefreshCmd": "cat(var_dic_list()) "
        }
      },
      "types_to_exclude": [
        "module",
        "function",
        "builtin_function_or_method",
        "instance",
        "_Feature"
      ],
      "window_display": false
    }
  },
  "nbformat": 4,
  "nbformat_minor": 0
}
