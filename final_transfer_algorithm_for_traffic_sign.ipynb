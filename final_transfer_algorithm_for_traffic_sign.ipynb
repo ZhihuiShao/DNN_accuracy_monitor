{
  "cells": [
    {
      "cell_type": "code",
      "execution_count": null,
      "metadata": {
        "id": "U4pk7gTiHre0",
        "outputId": "2f3d4a33-8da2-4a3d-82e8-cfc94bf20168"
      },
      "outputs": [],
      "source": [
        "import warnings\n",
        "warnings.filterwarnings('ignore')\n",
        "import tensorflow as tf\n",
        "print(tf.__version__)\n",
        "from tensorflow.keras import datasets, layers, models\n",
        "from tensorflow.keras.preprocessing.image import ImageDataGenerator\n",
        "from tensorflow.keras.models import Sequential\n",
        "from tensorflow.keras.layers import Input,Dense,Dropout,Activation,Flatten,GlobalAveragePooling2D\n",
        "from tensorflow.keras.layers import Conv2D,MaxPooling2D,BatchNormalization,Lambda,Concatenate\n",
        "from tensorflow.keras import optimizers, regularizers, applications\n",
        "from tensorflow.keras.utils import to_categorical\n",
        "from tensorflow.keras.utils import plot_model\n",
        "\n",
        "import numpy as np\n",
        "import scipy.io as sio\n",
        "import scipy.stats as sst\n",
        "import scipy\n",
        "\n",
        "import random\n",
        "from sklearn.linear_model import LogisticRegression\n",
        "from sklearn.ensemble import RandomForestClassifier\n",
        "from sklearn.metrics import confusion_matrix\n",
        "from sklearn.model_selection import train_test_split\n",
        "from sklearn.metrics import precision_recall_curve, roc_auc_score, average_precision_score\n",
        "\n",
        "import matplotlib.pyplot as plt\n",
        "\n",
        "import keras"
      ]
    },
    {
      "cell_type": "code",
      "execution_count": null,
      "metadata": {
        "id": "awt31TmzHre2",
        "outputId": "b8838a23-a3bf-4b6d-9131-8813722bbf6a"
      },
      "outputs": [],
      "source": [
        "monitor_model = models.load_model('./pre_trained_model_D1.h5')"
      ]
    },
    {
      "cell_type": "code",
      "execution_count": null,
      "metadata": {
        "id": "LVz34VMxHre2"
      },
      "outputs": [],
      "source": [
        "def monitor_evaluation(X,Y,model):\n",
        "    predict = (model.predict(X)>0.5).reshape([-1])\n",
        "    cm = confusion_matrix((Y>0.5).reshape([-1]),predict);print(cm/1000)\n",
        "    print(\"predict accuracy\",np.mean(predict>0.5))\n",
        "    print(\"true accuracy\",np.mean(Y>0.5))"
      ]
    },
    {
      "cell_type": "code",
      "execution_count": null,
      "metadata": {
        "id": "XDbTe0JFHre2",
        "outputId": "77f710a1-1e81-493b-ec24-2293cde59626"
      },
      "outputs": [],
      "source": [
        "# test it on train\n",
        "## load encode feature, prob and tcp\n",
        "monitor_data = sio.loadmat('./D1_test_features.mat')#cifar_test; clinic10_train; clinic10_test;\n",
        "monitor_test_X = monitor_data['probability']\n",
        "label = monitor_data['label'].reshape([-1])\n",
        "prediction = monitor_data['prediction'].reshape([-1])\n",
        "monitor_test_Y = label!=prediction\n",
        "\n",
        "# get monitor_test_tcp\n",
        "monitor_test_tcp = np.zeros((monitor_test_X.shape[0]))\n",
        "for i in range(monitor_test_X.shape[0]):\n",
        "    monitor_test_tcp[i]=monitor_test_X[i,int(label[i])]\n",
        "# monitor_test_tcp = monitor_data['true_class_prob'].reshape([-1])\n",
        "print(monitor_test_X.shape, monitor_test_Y.shape,monitor_test_tcp.shape)\n",
        "# monitor_evaluation(monitor_test_X,1-monitor_test_Y,monitor_model)"
      ]
    },
    {
      "cell_type": "code",
      "execution_count": null,
      "metadata": {
        "id": "1lnGoe5sHre3"
      },
      "outputs": [],
      "source": [
        "# filter out the nan rows: monitor_test_X, monitor_test_tcp, monitor_test_Y\n",
        "monitor_test_X_new = np.zeros((0,monitor_test_X.shape[1]))\n",
        "monitor_test_tcp_new = np.zeros((0,))\n",
        "monitor_test_Y_new = np.zeros((0,))\n",
        "\n",
        "for i in range(monitor_test_X.shape[0]):\n",
        "    filter_1 = monitor_test_X[i];\n",
        "    filter_2 = np.sum(np.isnan(filter_1))\n",
        "    if(filter_2==0):\n",
        "        monitor_test_X_new = np.vstack((monitor_test_X_new,monitor_test_X[i]))\n",
        "        monitor_test_tcp_new = np.hstack((monitor_test_tcp_new,monitor_test_tcp[i]))\n",
        "        monitor_test_Y_new = np.hstack((monitor_test_Y_new,monitor_test_Y[i]))"
      ]
    },
    {
      "cell_type": "code",
      "execution_count": null,
      "metadata": {
        "id": "xzRgtzo7Hre3",
        "outputId": "43bffd5b-b928-4356-cb2d-a8b76dd8cfad"
      },
      "outputs": [],
      "source": [
        "## transfer data\n",
        "## type 1: active\n",
        "# monitor_model = models.load_model('monitor_without_image_v2.h5')\n",
        "# predict_TCP = monitor_model.predict(monitor_test_X[:,-10:])\n",
        "# TCP_entrop = predict_TCP*(1-predict_TCP)*4\n",
        "# transfer_list = TCP_entrop.reshape([-1]).argsort()[::-1][:90]#[np.random.choice(9000,900)]\n",
        "# monitorX_train = monitor_test_X[transfer_list]\n",
        "# monitorY_train = monitor_test_tcp[transfer_list]\n",
        "\n",
        "## type 2: not active\n",
        "monitorX_train,monitorX_test,monitorY_train,monitorY_test = train_test_split(monitor_test_X_new,monitor_test_tcp_new,\n",
        "                                                                             test_size=0.99,random_state=42)\n",
        "print(monitorX_train.shape, monitorY_train.shape)"
      ]
    },
    {
      "cell_type": "code",
      "execution_count": null,
      "metadata": {
        "id": "jRE6srYYHre3",
        "outputId": "84b76466-fff4-486a-8ace-5ed09bc75922"
      },
      "outputs": [],
      "source": [
        "## transfer block\n",
        "monitor_model = models.load_model('pre_trained_model_D1.h5')\n",
        "monitor_evaluation(monitor_test_X_new,1-monitor_test_Y_new,monitor_model)"
      ]
    },
    {
      "cell_type": "code",
      "execution_count": null,
      "metadata": {
        "id": "AgHYeOb_Hre3",
        "outputId": "b6f0846b-1dd3-40fe-baba-936f3f7d47a3",
        "scrolled": true
      },
      "outputs": [],
      "source": [
        "## transfer block\n",
        "monitor_model = models.load_model('pre_trained_model_D1.h5')\n",
        "for layer in monitor_model.layers:\n",
        "    layer.trainable=False\n",
        "# monitor_model.layers[-3].trainable=True\n",
        "# monitor_model.layers[-2].trainable=True\n",
        "monitor_model.layers[-1].trainable=True\n",
        "\n",
        "monitor_model.compile(optimizer='Adam',loss='mean_squared_error')\n",
        "## transfer \n",
        "history = monitor_model.fit(monitorX_train,monitorY_train,epochs=250,shuffle=True)"
      ]
    },
    {
      "cell_type": "code",
      "execution_count": null,
      "metadata": {
        "id": "O-P2c-a7Hre3",
        "outputId": "10694340-5022-4e41-c94d-3a1bba498a87"
      },
      "outputs": [],
      "source": [
        "monitor_evaluation(monitor_test_X_new,1-monitor_test_Y_new,monitor_model)"
      ]
    },
    {
      "cell_type": "code",
      "execution_count": null,
      "metadata": {
        "id": "tmL7gmjbHre4",
        "outputId": "200b4bb5-0f63-4d19-8628-0ce54e4d31cd"
      },
      "outputs": [],
      "source": [
        "pp = monitor_model.predict(monitor_test_X_new).reshape([-1])\n",
        "\n",
        "roc_auc_score(monitor_test_Y_new,1-pp), average_precision_score(monitor_test_Y_new,1-pp)"
      ]
    },
    {
      "cell_type": "code",
      "execution_count": null,
      "metadata": {
        "id": "HI-NMUx-Hre4",
        "outputId": "480bde38-b7fd-4e7e-f38e-54212792f54e"
      },
      "outputs": [],
      "source": [
        "pp = np.max(monitor_test_X_new,axis=-1)\n",
        "\n",
        "roc_auc_score(monitor_test_Y_new,1-pp),average_precision_score(monitor_test_Y_new,1-pp)"
      ]
    },
    {
      "cell_type": "code",
      "execution_count": null,
      "metadata": {
        "id": "OkELrx_HHre4"
      },
      "outputs": [],
      "source": [
        "models.save_model(monitor_model,'pre_trained_model_D1_transferred.h5')"
      ]
    }
  ],
  "metadata": {
    "colab": {
      "provenance": []
    },
    "kernelspec": {
      "display_name": "Python 3",
      "language": "python",
      "name": "python3"
    },
    "language_info": {
      "codemirror_mode": {
        "name": "ipython",
        "version": 3
      },
      "file_extension": ".py",
      "mimetype": "text/x-python",
      "name": "python",
      "nbconvert_exporter": "python",
      "pygments_lexer": "ipython3",
      "version": "3.7.7"
    },
    "varInspector": {
      "cols": {
        "lenName": 16,
        "lenType": 16,
        "lenVar": 40
      },
      "kernels_config": {
        "python": {
          "delete_cmd_postfix": "",
          "delete_cmd_prefix": "del ",
          "library": "var_list.py",
          "varRefreshCmd": "print(var_dic_list())"
        },
        "r": {
          "delete_cmd_postfix": ") ",
          "delete_cmd_prefix": "rm(",
          "library": "var_list.r",
          "varRefreshCmd": "cat(var_dic_list()) "
        }
      },
      "types_to_exclude": [
        "module",
        "function",
        "builtin_function_or_method",
        "instance",
        "_Feature"
      ],
      "window_display": false
    }
  },
  "nbformat": 4,
  "nbformat_minor": 0
}
